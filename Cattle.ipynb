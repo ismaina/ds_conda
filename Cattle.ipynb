{
 "cells": [
  {
   "cell_type": "code",
   "execution_count": 1,
   "metadata": {},
   "outputs": [],
   "source": [
    "import pandas as pd\n",
    "import numpy as np\n",
    "import seaborn as sns\n",
    "import matplotlib.pyplot as plt\n",
    "import random\n",
    "%matplotlib inline"
   ]
  },
  {
   "cell_type": "code",
   "execution_count": 2,
   "metadata": {},
   "outputs": [],
   "source": [
    "#importing csv\n",
    "df = pd.read_csv(\"C:\\\\Users\\\\maina\\\\Documents\\\\Digital Academy\\\\Data Science\\\\DS_Crash_Course_labs\\\\Census_Vol_II_Q_11_Livestock_population_by_type_and_district_2009.csv\")"
   ]
  },
  {
   "cell_type": "code",
   "execution_count": 3,
   "metadata": {},
   "outputs": [
    {
     "data": {
      "text/html": [
       "<div>\n",
       "<style scoped>\n",
       "    .dataframe tbody tr th:only-of-type {\n",
       "        vertical-align: middle;\n",
       "    }\n",
       "\n",
       "    .dataframe tbody tr th {\n",
       "        vertical-align: top;\n",
       "    }\n",
       "\n",
       "    .dataframe thead th {\n",
       "        text-align: right;\n",
       "    }\n",
       "</style>\n",
       "<table border=\"1\" class=\"dataframe\">\n",
       "  <thead>\n",
       "    <tr style=\"text-align: right;\">\n",
       "      <th></th>\n",
       "      <th>Cattle</th>\n",
       "      <th>Sheep</th>\n",
       "      <th>Goats</th>\n",
       "      <th>Camels</th>\n",
       "      <th>Donkeys</th>\n",
       "      <th>Pigs</th>\n",
       "      <th>Indigenous_Chicken</th>\n",
       "      <th>Chicken_Commercial</th>\n",
       "      <th>Bee_Hives</th>\n",
       "      <th>OBJECTID</th>\n",
       "    </tr>\n",
       "  </thead>\n",
       "  <tbody>\n",
       "    <tr>\n",
       "      <th>count</th>\n",
       "      <td>158.000000</td>\n",
       "      <td>1.580000e+02</td>\n",
       "      <td>1.580000e+02</td>\n",
       "      <td>122.000000</td>\n",
       "      <td>158.000000</td>\n",
       "      <td>152.000000</td>\n",
       "      <td>158.000000</td>\n",
       "      <td>158.000000</td>\n",
       "      <td>158.000000</td>\n",
       "      <td>158.000000</td>\n",
       "    </tr>\n",
       "    <tr>\n",
       "      <th>mean</th>\n",
       "      <td>110542.873418</td>\n",
       "      <td>1.084152e+05</td>\n",
       "      <td>1.755706e+05</td>\n",
       "      <td>24351.729508</td>\n",
       "      <td>11476.031646</td>\n",
       "      <td>2201.769737</td>\n",
       "      <td>163015.740506</td>\n",
       "      <td>38424.316456</td>\n",
       "      <td>11661.367089</td>\n",
       "      <td>78.500000</td>\n",
       "    </tr>\n",
       "    <tr>\n",
       "      <th>std</th>\n",
       "      <td>124638.544199</td>\n",
       "      <td>2.179580e+05</td>\n",
       "      <td>3.697840e+05</td>\n",
       "      <td>72077.276553</td>\n",
       "      <td>29496.949266</td>\n",
       "      <td>3498.104826</td>\n",
       "      <td>113569.509209</td>\n",
       "      <td>62347.086013</td>\n",
       "      <td>20497.641239</td>\n",
       "      <td>45.754781</td>\n",
       "    </tr>\n",
       "    <tr>\n",
       "      <th>min</th>\n",
       "      <td>4509.000000</td>\n",
       "      <td>7.880000e+02</td>\n",
       "      <td>1.814000e+03</td>\n",
       "      <td>1.000000</td>\n",
       "      <td>44.000000</td>\n",
       "      <td>1.000000</td>\n",
       "      <td>4919.000000</td>\n",
       "      <td>377.000000</td>\n",
       "      <td>141.000000</td>\n",
       "      <td>0.000000</td>\n",
       "    </tr>\n",
       "    <tr>\n",
       "      <th>25%</th>\n",
       "      <td>50543.750000</td>\n",
       "      <td>1.332300e+04</td>\n",
       "      <td>1.489350e+04</td>\n",
       "      <td>4.000000</td>\n",
       "      <td>911.000000</td>\n",
       "      <td>239.250000</td>\n",
       "      <td>73616.000000</td>\n",
       "      <td>7687.000000</td>\n",
       "      <td>1111.250000</td>\n",
       "      <td>39.250000</td>\n",
       "    </tr>\n",
       "    <tr>\n",
       "      <th>50%</th>\n",
       "      <td>78015.000000</td>\n",
       "      <td>2.981600e+04</td>\n",
       "      <td>5.749850e+04</td>\n",
       "      <td>12.500000</td>\n",
       "      <td>2754.500000</td>\n",
       "      <td>687.500000</td>\n",
       "      <td>147208.000000</td>\n",
       "      <td>14452.500000</td>\n",
       "      <td>3157.500000</td>\n",
       "      <td>78.500000</td>\n",
       "    </tr>\n",
       "    <tr>\n",
       "      <th>75%</th>\n",
       "      <td>113201.000000</td>\n",
       "      <td>9.846150e+04</td>\n",
       "      <td>1.683088e+05</td>\n",
       "      <td>1071.000000</td>\n",
       "      <td>8958.750000</td>\n",
       "      <td>2622.500000</td>\n",
       "      <td>221783.500000</td>\n",
       "      <td>35133.750000</td>\n",
       "      <td>11630.500000</td>\n",
       "      <td>117.750000</td>\n",
       "    </tr>\n",
       "    <tr>\n",
       "      <th>max</th>\n",
       "      <td>787209.000000</td>\n",
       "      <td>1.682418e+06</td>\n",
       "      <td>2.846748e+06</td>\n",
       "      <td>412577.000000</td>\n",
       "      <td>273686.000000</td>\n",
       "      <td>21315.000000</td>\n",
       "      <td>616660.000000</td>\n",
       "      <td>399043.000000</td>\n",
       "      <td>110271.000000</td>\n",
       "      <td>157.000000</td>\n",
       "    </tr>\n",
       "  </tbody>\n",
       "</table>\n",
       "</div>"
      ],
      "text/plain": [
       "              Cattle         Sheep         Goats         Camels  \\\n",
       "count     158.000000  1.580000e+02  1.580000e+02     122.000000   \n",
       "mean   110542.873418  1.084152e+05  1.755706e+05   24351.729508   \n",
       "std    124638.544199  2.179580e+05  3.697840e+05   72077.276553   \n",
       "min      4509.000000  7.880000e+02  1.814000e+03       1.000000   \n",
       "25%     50543.750000  1.332300e+04  1.489350e+04       4.000000   \n",
       "50%     78015.000000  2.981600e+04  5.749850e+04      12.500000   \n",
       "75%    113201.000000  9.846150e+04  1.683088e+05    1071.000000   \n",
       "max    787209.000000  1.682418e+06  2.846748e+06  412577.000000   \n",
       "\n",
       "             Donkeys          Pigs  Indigenous_Chicken  Chicken_Commercial  \\\n",
       "count     158.000000    152.000000          158.000000          158.000000   \n",
       "mean    11476.031646   2201.769737       163015.740506        38424.316456   \n",
       "std     29496.949266   3498.104826       113569.509209        62347.086013   \n",
       "min        44.000000      1.000000         4919.000000          377.000000   \n",
       "25%       911.000000    239.250000        73616.000000         7687.000000   \n",
       "50%      2754.500000    687.500000       147208.000000        14452.500000   \n",
       "75%      8958.750000   2622.500000       221783.500000        35133.750000   \n",
       "max    273686.000000  21315.000000       616660.000000       399043.000000   \n",
       "\n",
       "           Bee_Hives    OBJECTID  \n",
       "count     158.000000  158.000000  \n",
       "mean    11661.367089   78.500000  \n",
       "std     20497.641239   45.754781  \n",
       "min       141.000000    0.000000  \n",
       "25%      1111.250000   39.250000  \n",
       "50%      3157.500000   78.500000  \n",
       "75%     11630.500000  117.750000  \n",
       "max    110271.000000  157.000000  "
      ]
     },
     "execution_count": 3,
     "metadata": {},
     "output_type": "execute_result"
    }
   ],
   "source": [
    "df.describe()"
   ]
  },
  {
   "cell_type": "code",
   "execution_count": 17,
   "metadata": {},
   "outputs": [
    {
     "data": {
      "text/plain": [
       "<matplotlib.axes._subplots.AxesSubplot at 0x1e455fb47b8>"
      ]
     },
     "execution_count": 17,
     "metadata": {},
     "output_type": "execute_result"
    },
    {
     "data": {
      "image/png": "[encoded data removed]",
      "text/plain": [
       "<Figure size 432x288 with 1 Axes>"
      ]
     },
     "metadata": {
      "needs_background": "light"
     },
     "output_type": "display_data"
    }
   ],
   "source": [
    "df.groupby(['Province']).sum().plot(kind='bar')"
   ]
  },
  {
   "cell_type": "code",
   "execution_count": 14,
   "metadata": {},
   "outputs": [
    {
     "data": {
      "text/plain": [
       "RIFE VALLEY      44\n",
       "EASTERN          28\n",
       "NYANZA           21\n",
       "WESTERN          20\n",
       "CENTRAL          17\n",
       "COAST            13\n",
       "NORTH EASTERN    11\n",
       "NAIROBI           4\n",
       "Name: Province, dtype: int64"
      ]
     },
     "execution_count": 14,
     "metadata": {},
     "output_type": "execute_result"
    }
   ],
   "source": [
    "df['Province'].value_counts()"
   ]
  },
  {
   "cell_type": "code",
   "execution_count": null,
   "metadata": {},
   "outputs": [],
   "source": []
  }
 ],
 "metadata": {
  "kernelspec": {
   "display_name": "Python 3",
   "language": "python",
   "name": "python3"
  },
  "language_info": {
   "codemirror_mode": {
    "name": "ipython",
    "version": 3
   },
   "file_extension": ".py",
   "mimetype": "text/x-python",
   "name": "python",
   "nbconvert_exporter": "python",
   "pygments_lexer": "ipython3",
   "version": "3.7.1"
  }
 },
 "nbformat": 4,
 "nbformat_minor": 2
}
